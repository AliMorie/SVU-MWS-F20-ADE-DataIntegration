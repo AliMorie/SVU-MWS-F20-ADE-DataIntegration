{
  "nbformat": 4,
  "nbformat_minor": 5,
  "metadata": {
    "kernelspec": {
      "display_name": "Python 3",
      "language": "python",
      "name": "python3"
    },
    "language_info": {
      "codemirror_mode": {
        "name": "ipython",
        "version": 3
      },
      "file_extension": ".py",
      "mimetype": "text/x-python",
      "name": "python",
      "nbconvert_exporter": "python",
      "pygments_lexer": "ipython3",
      "version": "3.9.4"
    },
    "colab": {
      "name": "AutoencoderCITEseq.ipynb",
      "provenance": [],
      "collapsed_sections": []
    }
  },
  "cells": [
    {
      "cell_type": "markdown",
      "metadata": {
        "id": "LiJOIXpkkYC3"
      },
      "source": [
        "# **To run the Code:**\n",
        " \n",
        "\n",
        "1.   Click on `Runtime`.\n",
        "2.   Choose `Run All`.\n",
        "\n"
      ],
      "id": "LiJOIXpkkYC3"
    },
    {
      "cell_type": "markdown",
      "metadata": {
        "id": "ery9yKG_jJHN"
      },
      "source": [
        "## Mouning Google Drive folders"
      ],
      "id": "ery9yKG_jJHN"
    },
    {
      "cell_type": "code",
      "metadata": {
        "id": "U3Zlr6M3-u3m"
      },
      "source": [
        "# from google.colab import drive\n",
        "# drive.mount(\"/content/gdrive/\")\n",
        "# !ls \"/content/gdrive/My Drive/Data-integration\""
      ],
      "id": "U3Zlr6M3-u3m",
      "execution_count": null,
      "outputs": []
    },
    {
      "cell_type": "markdown",
      "metadata": {
        "id": "b4iHws6yjafd"
      },
      "source": [
        "## Mounting GitHub repo"
      ],
      "id": "b4iHws6yjafd"
    },
    {
      "cell_type": "code",
      "metadata": {
        "id": "Dv0F7EkjbsUU"
      },
      "source": [
        "!git clone https://github.com/AliMorie/SVU-MWS-F20-ADE-DataIntegration.git"
      ],
      "id": "Dv0F7EkjbsUU",
      "execution_count": null,
      "outputs": []
    },
    {
      "cell_type": "markdown",
      "metadata": {
        "id": "uixoC9pkjjy_"
      },
      "source": [
        "## importing required dependencies"
      ],
      "id": "uixoC9pkjjy_"
    },
    {
      "cell_type": "code",
      "metadata": {
        "id": "5f8375d0"
      },
      "source": [
        "import numpy as np\n",
        "import pandas as pd\n",
        "from keras.models import Model\n",
        "import matplotlib.pyplot as plt\n",
        "from sklearn.manifold import TSNE\n",
        "from keras.utils.vis_utils import plot_model\n",
        "from keras.layers import Input, Dense\n",
        "from keras.layers.merge import concatenate"
      ],
      "id": "5f8375d0",
      "execution_count": 3,
      "outputs": []
    },
    {
      "cell_type": "markdown",
      "metadata": {
        "id": "98QDswVzjpx7"
      },
      "source": [
        "## Loading Datasets"
      ],
      "id": "98QDswVzjpx7"
    },
    {
      "cell_type": "code",
      "metadata": {
        "id": "c00d89eb"
      },
      "source": [
        "# work_dir = \"/content/gdrive/My Drive/Data-integration\"\n",
        "work_dir = \"SVU-MWS-F20-ADE-DataIntegration\"\n",
        "scRNAseq = pd.read_csv(work_dir + '/scRNAseq.txt',sep='\\t')\n",
        "scProteomics = pd.read_csv(work_dir + '/scProteomics.txt',sep='\\t')\n",
        "\n",
        "X_scRNAseq = scRNAseq.values[:,0:(scRNAseq.shape[1]-1)]\n",
        "Y_scRNAseq = scRNAseq.values[:,scRNAseq.shape[1]-1]\n",
        "X_scProteomics = scProteomics.values[:,0:(scProteomics.shape[1]-1)]\n",
        "Y_scProteomics = scProteomics.values[:,scProteomics.shape[1]-1]\n",
        "\n",
        "X_scRNAseq = np.log(X_scRNAseq + 1)\n",
        "X_scProteomics = np.log(X_scProteomics + 1)"
      ],
      "id": "c00d89eb",
      "execution_count": 4,
      "outputs": []
    },
    {
      "cell_type": "markdown",
      "metadata": {
        "id": "awMN0Ft_jt6b"
      },
      "source": [
        "## checking Dataset Dimentions."
      ],
      "id": "awMN0Ft_jt6b"
    },
    {
      "cell_type": "code",
      "metadata": {
        "id": "cFnhQ-Zz-ruw"
      },
      "source": [
        "print('Shape of X_scRNAseq is ', X_scRNAseq.shape)\n",
        "print('Shape of X_scProteomics is ', X_scProteomics.shape)\n",
        "\n",
        "print('Shape of Y_scRNAseq is ', Y_scRNAseq.shape)\n",
        "print('Shape of Y_scProteomics is ', Y_scProteomics.shape)"
      ],
      "id": "cFnhQ-Zz-ruw",
      "execution_count": null,
      "outputs": []
    },
    {
      "cell_type": "markdown",
      "metadata": {
        "id": "84K_Xbucj2Rk"
      },
      "source": [
        "# Input Layer"
      ],
      "id": "84K_Xbucj2Rk"
    },
    {
      "cell_type": "code",
      "metadata": {
        "id": "9c508d24"
      },
      "source": [
        "ncol_scRNAseq = X_scRNAseq.shape[1]\n",
        "input_dim_scRNAseq = Input(shape = (ncol_scRNAseq, ), name = \"scRNAseq\")\n",
        "ncol_scProteomics = X_scProteomics.shape[1]\n",
        "input_dim_scProteomics = Input(shape = (ncol_scProteomics, ), name = \"scProteomics\")"
      ],
      "id": "9c508d24",
      "execution_count": 6,
      "outputs": []
    },
    {
      "cell_type": "markdown",
      "metadata": {
        "id": "sOpoFLscj53U"
      },
      "source": [
        "# Dimensions of Encoder for each OMIC"
      ],
      "id": "sOpoFLscj53U"
    },
    {
      "cell_type": "code",
      "metadata": {
        "id": "1b39df7e"
      },
      "source": [
        "encoding_dim_scRNAseq = 50\n",
        "encoding_dim_scProteomics = 10"
      ],
      "id": "1b39df7e",
      "execution_count": 7,
      "outputs": []
    },
    {
      "cell_type": "markdown",
      "metadata": {
        "id": "7Zcl97ocj8tV"
      },
      "source": [
        "# Encoder layer for each OMIC\n"
      ],
      "id": "7Zcl97ocj8tV"
    },
    {
      "cell_type": "code",
      "metadata": {
        "id": "d476e3b5"
      },
      "source": [
        "encoded_scRNAseq = Dense(encoding_dim_scRNAseq, activation = 'linear', \n",
        "                         name = \"Encoder_scRNAseq\")(input_dim_scRNAseq)\n",
        "encoded_scProteomics = Dense(encoding_dim_scProteomics, activation = 'linear', \n",
        "                             name = \"Encoder_scProteomics\")(input_dim_scProteomics)"
      ],
      "id": "d476e3b5",
      "execution_count": 8,
      "outputs": []
    },
    {
      "cell_type": "markdown",
      "metadata": {
        "id": "7xmsckZYj-1c"
      },
      "source": [
        "# Merging Encoder layers from different OMICs\n"
      ],
      "id": "7xmsckZYj-1c"
    },
    {
      "cell_type": "code",
      "metadata": {
        "id": "a364c906"
      },
      "source": [
        "merge = concatenate([encoded_scRNAseq, encoded_scProteomics])"
      ],
      "id": "a364c906",
      "execution_count": 9,
      "outputs": []
    },
    {
      "cell_type": "markdown",
      "metadata": {
        "id": "Xgx7zRKOkAtD"
      },
      "source": [
        "# Bottleneck compression\n"
      ],
      "id": "Xgx7zRKOkAtD"
    },
    {
      "cell_type": "code",
      "metadata": {
        "id": "6882af30"
      },
      "source": [
        "bottleneck = Dense(50, kernel_initializer = 'uniform', activation = 'linear', \n",
        "                   name = \"Bottleneck\")(merge)"
      ],
      "id": "6882af30",
      "execution_count": 10,
      "outputs": []
    },
    {
      "cell_type": "markdown",
      "metadata": {
        "id": "U4o2fPxykB_l"
      },
      "source": [
        "#Inverse merging\n"
      ],
      "id": "U4o2fPxykB_l"
    },
    {
      "cell_type": "code",
      "metadata": {
        "id": "c67f2a36"
      },
      "source": [
        "merge_inverse = Dense(encoding_dim_scRNAseq + encoding_dim_scProteomics, \n",
        "                      activation = 'elu', name = \"Concatenate_Inverse\")(bottleneck)"
      ],
      "id": "c67f2a36",
      "execution_count": 11,
      "outputs": []
    },
    {
      "cell_type": "markdown",
      "metadata": {
        "id": "MpUb9da5kDak"
      },
      "source": [
        "# Decoder layer for each OMIC\n"
      ],
      "id": "MpUb9da5kDak"
    },
    {
      "cell_type": "code",
      "metadata": {
        "id": "da3b0e5f"
      },
      "source": [
        "decoded_scRNAseq = Dense(ncol_scRNAseq, activation = 'sigmoid', \n",
        "                         name = \"Decoder_scRNAseq\")(merge_inverse)\n",
        "decoded_scProteomics = Dense(ncol_scProteomics, activation = 'sigmoid', \n",
        "                             name = \"Decoder_scProteomics\")(merge_inverse)"
      ],
      "id": "da3b0e5f",
      "execution_count": 12,
      "outputs": []
    },
    {
      "cell_type": "markdown",
      "metadata": {
        "id": "e1gzpwD-kEns"
      },
      "source": [
        "# Combining Encoder and Decoder into an Autoencoder model\n"
      ],
      "id": "e1gzpwD-kEns"
    },
    {
      "cell_type": "code",
      "metadata": {
        "id": "40561cea"
      },
      "source": [
        "autoencoder = Model(inputs = [input_dim_scRNAseq, input_dim_scProteomics], \n",
        "                    outputs = [decoded_scRNAseq, decoded_scProteomics])"
      ],
      "id": "40561cea",
      "execution_count": 13,
      "outputs": []
    },
    {
      "cell_type": "markdown",
      "metadata": {
        "id": "2hX7_Q4nkF4E"
      },
      "source": [
        "# Compile Autoencoder\n"
      ],
      "id": "2hX7_Q4nkF4E"
    },
    {
      "cell_type": "code",
      "metadata": {
        "id": "e23f4f9a"
      },
      "source": [
        "autoencoder.compile(optimizer = 'adam', \n",
        "                    loss={'Decoder_scRNAseq': 'mean_squared_error', \n",
        "                          'Decoder_scProteomics': 'mean_squared_error'})\n",
        "autoencoder.summary()"
      ],
      "id": "e23f4f9a",
      "execution_count": null,
      "outputs": []
    },
    {
      "cell_type": "markdown",
      "metadata": {
        "id": "56d9514e"
      },
      "source": [
        "## Autoencoder training"
      ],
      "id": "56d9514e"
    },
    {
      "cell_type": "code",
      "metadata": {
        "id": "27a52a5e"
      },
      "source": [
        "estimator = autoencoder.fit([X_scRNAseq, X_scProteomics], \n",
        "                            [X_scRNAseq, X_scProteomics], \n",
        "                            epochs = 100, batch_size = 128, \n",
        "                            validation_split = 0.2, shuffle = True, verbose = 1)\n",
        "print(\"Training Loss: \",estimator.history['loss'][-1])\n",
        "print(\"Validation Loss: \",estimator.history['val_loss'][-1])\n",
        "# plt.plot(estimator.history['loss'])\n",
        "# plt.plot(estimator.history['val_loss'])\n",
        "# plt.title('Model Loss')\n",
        "# plt.ylabel('Loss')\n",
        "# plt.xlabel('Epoch')\n",
        "# plt.legend(['Train','Validation'], loc = 'upper right')\n",
        "# plt.show()"
      ],
      "id": "27a52a5e",
      "execution_count": null,
      "outputs": []
    },
    {
      "cell_type": "markdown",
      "metadata": {
        "id": "wB_-yiOXkK79"
      },
      "source": [
        "# Encoder model\n"
      ],
      "id": "wB_-yiOXkK79"
    },
    {
      "cell_type": "code",
      "metadata": {
        "id": "23aa6767"
      },
      "source": [
        "encoder = Model(inputs = [input_dim_scRNAseq, input_dim_scProteomics], \n",
        "                outputs = bottleneck)\n",
        "bottleneck_representation = encoder.predict([X_scRNAseq, X_scProteomics])"
      ],
      "id": "23aa6767",
      "execution_count": 16,
      "outputs": []
    },
    {
      "cell_type": "markdown",
      "metadata": {
        "id": "ZFH_ht-zkL91"
      },
      "source": [
        "# tSNE on Autoencoder bottleneck representation\n"
      ],
      "id": "ZFH_ht-zkL91"
    },
    {
      "cell_type": "code",
      "metadata": {
        "id": "a73846e0"
      },
      "source": [
        "model_tsne_auto = TSNE(learning_rate = 200, n_components = 2, random_state = 123, \n",
        "                       perplexity = 90, n_iter = 1000, verbose = 1)\n",
        "tsne_auto = model_tsne_auto.fit_transform(bottleneck_representation)\n",
        "plt.scatter(tsne_auto[:, 0], tsne_auto[:, 1], c = Y_scRNAseq, cmap = 'tab20', s = 10)\n",
        "plt.title('tSNE on Autoencoder: Data Integration, CITEseq')\n",
        "plt.xlabel(\"tSNE1\")\n",
        "plt.ylabel(\"tSNE2\")\n",
        "plt.show()"
      ],
      "id": "a73846e0",
      "execution_count": null,
      "outputs": []
    }
  ]
}